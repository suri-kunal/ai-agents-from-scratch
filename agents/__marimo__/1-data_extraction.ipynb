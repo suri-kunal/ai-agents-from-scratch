{
 "cells": [
  {
   "cell_type": "code",
   "execution_count": null,
   "id": "Hbol",
   "metadata": {},
   "outputs": [],
   "source": [
    "import marimo as mo"
   ]
  },
  {
   "cell_type": "code",
   "execution_count": null,
   "id": "MJUe",
   "metadata": {},
   "outputs": [],
   "source": [
    "from datasets import load_dataset, load_from_disk, DownloadMode\n",
    "import os\n",
    "from tqdm import tqdm\n",
    "import json"
   ]
  },
  {
   "cell_type": "markdown",
   "id": "vblA",
   "metadata": {},
   "source": [
    "# This notebook to meant to extract data from [galileo-ai/agent-leaderboard](https://huggingface.co/datasets/galileo-ai/agent-leaderboard)"
   ]
  },
  {
   "cell_type": "code",
   "execution_count": null,
   "id": "bkHC",
   "metadata": {},
   "outputs": [
    {
     "name": "stderr",
     "output_type": "stream",
     "text": [
      "\r",
      "  0%|                                                                                           | 0/15 [00:00<?, ?it/s]"
     ]
    },
    {
     "name": "stderr",
     "output_type": "stream",
     "text": [
      "\n",
      "\r",
      "Generating test split:   0%|                                                            | 0/100 [00:00<?, ? examples/s]\u001b[A\r",
      "Generating test split: 100%|███████████████████████████████████████████████| 100/100 [00:00<00:00, 17274.73 examples/s]\n"
     ]
    },
    {
     "name": "stderr",
     "output_type": "stream",
     "text": [
      "\n",
      "\r",
      "Saving the dataset (0/1 shards):   0%|                                                  | 0/100 [00:00<?, ? examples/s]\u001b[A\n",
      "\r",
      "Saving the dataset (1/1 shards): 100%|█████████████████████████████████████| 100/100 [00:00<00:00, 18470.60 examples/s]\u001b[A\r",
      "Saving the dataset (1/1 shards): 100%|█████████████████████████████████████| 100/100 [00:00<00:00, 17649.08 examples/s]\n",
      "\r",
      "  7%|█████▌                                                                             | 1/15 [00:03<00:49,  3.56s/it]"
     ]
    },
    {
     "name": "stderr",
     "output_type": "stream",
     "text": [
      "\n",
      "\r",
      "Generating test split:   0%|                                                             | 0/50 [00:00<?, ? examples/s]\u001b[A\r",
      "Generating test split: 100%|██████████████████████████████████████████████████| 50/50 [00:00<00:00, 4885.28 examples/s]\n"
     ]
    },
    {
     "name": "stderr",
     "output_type": "stream",
     "text": [
      "\n",
      "\r",
      "Saving the dataset (0/1 shards):   0%|                                                   | 0/50 [00:00<?, ? examples/s]\u001b[A\n",
      "\r",
      "Saving the dataset (1/1 shards): 100%|████████████████████████████████████████| 50/50 [00:00<00:00, 6881.32 examples/s]\u001b[A\r",
      "Saving the dataset (1/1 shards): 100%|████████████████████████████████████████| 50/50 [00:00<00:00, 6640.97 examples/s]\n",
      "\r",
      " 13%|███████████                                                                        | 2/15 [00:06<00:41,  3.20s/it]"
     ]
    },
    {
     "name": "stderr",
     "output_type": "stream",
     "text": [
      "\n",
      "\r",
      "Generating test split:   0%|                                                             | 0/50 [00:00<?, ? examples/s]\u001b[A\r",
      "Generating test split: 100%|██████████████████████████████████████████████████| 50/50 [00:00<00:00, 9460.69 examples/s]\n"
     ]
    },
    {
     "name": "stderr",
     "output_type": "stream",
     "text": [
      "\n",
      "\r",
      "Saving the dataset (0/1 shards):   0%|                                                   | 0/50 [00:00<?, ? examples/s]\u001b[A\n",
      "\r",
      "Saving the dataset (1/1 shards): 100%|████████████████████████████████████████| 50/50 [00:00<00:00, 6366.97 examples/s]\u001b[A\r",
      "Saving the dataset (1/1 shards): 100%|████████████████████████████████████████| 50/50 [00:00<00:00, 6155.24 examples/s]\n",
      "\r",
      " 20%|████████████████▌                                                                  | 3/15 [00:09<00:36,  3.02s/it]"
     ]
    },
    {
     "name": "stderr",
     "output_type": "stream",
     "text": [
      "\n",
      "\r",
      "Generating test split:   0%|                                                            | 0/100 [00:00<?, ? examples/s]\u001b[A\r",
      "Generating test split: 100%|███████████████████████████████████████████████| 100/100 [00:00<00:00, 12388.66 examples/s]\n"
     ]
    },
    {
     "name": "stderr",
     "output_type": "stream",
     "text": [
      "\n",
      "\r",
      "Saving the dataset (0/1 shards):   0%|                                                  | 0/100 [00:00<?, ? examples/s]\u001b[A\n",
      "\r",
      "Saving the dataset (1/1 shards): 100%|█████████████████████████████████████| 100/100 [00:00<00:00, 13180.10 examples/s]\u001b[A\r",
      "Saving the dataset (1/1 shards): 100%|█████████████████████████████████████| 100/100 [00:00<00:00, 12675.44 examples/s]\n",
      "\r",
      " 27%|██████████████████████▏                                                            | 4/15 [00:12<00:34,  3.09s/it]"
     ]
    },
    {
     "name": "stderr",
     "output_type": "stream",
     "text": [
      "\n",
      "\r",
      "Generating test split:   0%|                                                            | 0/100 [00:00<?, ? examples/s]\u001b[A\r",
      "Generating test split: 100%|███████████████████████████████████████████████| 100/100 [00:00<00:00, 13873.72 examples/s]\n"
     ]
    },
    {
     "name": "stderr",
     "output_type": "stream",
     "text": [
      "\n",
      "\r",
      "Saving the dataset (0/1 shards):   0%|                                                  | 0/100 [00:00<?, ? examples/s]\u001b[A\n",
      "\r",
      "Saving the dataset (1/1 shards): 100%|█████████████████████████████████████| 100/100 [00:00<00:00, 12610.28 examples/s]\u001b[A\r",
      "Saving the dataset (1/1 shards): 100%|█████████████████████████████████████| 100/100 [00:00<00:00, 12177.17 examples/s]\n",
      "\r",
      " 33%|███████████████████████████▋                                                       | 5/15 [00:16<00:34,  3.43s/it]"
     ]
    },
    {
     "name": "stderr",
     "output_type": "stream",
     "text": [
      "\n",
      "\r",
      "Generating test split:   0%|                                                            | 0/100 [00:00<?, ? examples/s]\u001b[A\r",
      "Generating test split: 100%|███████████████████████████████████████████████| 100/100 [00:00<00:00, 10318.85 examples/s]\n"
     ]
    },
    {
     "name": "stderr",
     "output_type": "stream",
     "text": [
      "\n",
      "\r",
      "Saving the dataset (0/1 shards):   0%|                                                  | 0/100 [00:00<?, ? examples/s]\u001b[A\n",
      "\r",
      "Saving the dataset (1/1 shards): 100%|█████████████████████████████████████| 100/100 [00:00<00:00, 13662.67 examples/s]\u001b[A\r",
      "Saving the dataset (1/1 shards): 100%|█████████████████████████████████████| 100/100 [00:00<00:00, 13222.07 examples/s]\n",
      "\r",
      " 40%|█████████████████████████████████▏                                                 | 6/15 [00:19<00:29,  3.25s/it]"
     ]
    },
    {
     "name": "stderr",
     "output_type": "stream",
     "text": [
      "\n",
      "\r",
      "Generating test split:   0%|                                                            | 0/100 [00:00<?, ? examples/s]\u001b[A\r",
      "Generating test split: 100%|███████████████████████████████████████████████| 100/100 [00:00<00:00, 14666.94 examples/s]\n"
     ]
    },
    {
     "name": "stderr",
     "output_type": "stream",
     "text": [
      "\n",
      "\r",
      "Saving the dataset (0/1 shards):   0%|                                                  | 0/100 [00:00<?, ? examples/s]\u001b[A\n",
      "\r",
      "Saving the dataset (1/1 shards): 100%|█████████████████████████████████████| 100/100 [00:00<00:00, 12964.99 examples/s]\u001b[A\r",
      "Saving the dataset (1/1 shards): 100%|█████████████████████████████████████| 100/100 [00:00<00:00, 12534.15 examples/s]\n",
      "\r",
      " 47%|██████████████████████████████████████▋                                            | 7/15 [00:22<00:26,  3.29s/it]"
     ]
    },
    {
     "name": "stderr",
     "output_type": "stream",
     "text": [
      "\n",
      "\r",
      "Generating test split:   0%|                                                            | 0/100 [00:00<?, ? examples/s]\u001b[A\r",
      "Generating test split: 100%|███████████████████████████████████████████████| 100/100 [00:00<00:00, 17421.82 examples/s]\n"
     ]
    },
    {
     "name": "stderr",
     "output_type": "stream",
     "text": [
      "\n",
      "\r",
      "Saving the dataset (0/1 shards):   0%|                                                  | 0/100 [00:00<?, ? examples/s]\u001b[A\n",
      "\r",
      "Saving the dataset (1/1 shards): 100%|█████████████████████████████████████| 100/100 [00:00<00:00, 18204.44 examples/s]\u001b[A\r",
      "Saving the dataset (1/1 shards): 100%|█████████████████████████████████████| 100/100 [00:00<00:00, 17372.75 examples/s]\n",
      "\r",
      " 53%|████████████████████████████████████████████▎                                      | 8/15 [00:26<00:23,  3.30s/it]"
     ]
    },
    {
     "name": "stderr",
     "output_type": "stream",
     "text": [
      "\n",
      "\r",
      "Generating test split:   0%|                                                             | 0/20 [00:00<?, ? examples/s]\u001b[A\r",
      "Generating test split: 100%|██████████████████████████████████████████████████| 20/20 [00:00<00:00, 5792.04 examples/s]\n"
     ]
    },
    {
     "name": "stderr",
     "output_type": "stream",
     "text": [
      "\n",
      "\r",
      "Saving the dataset (0/1 shards):   0%|                                                   | 0/20 [00:00<?, ? examples/s]\u001b[A\n",
      "\r",
      "Saving the dataset (1/1 shards): 100%|████████████████████████████████████████| 20/20 [00:00<00:00, 4153.80 examples/s]\u001b[A\r",
      "Saving the dataset (1/1 shards): 100%|████████████████████████████████████████| 20/20 [00:00<00:00, 3955.77 examples/s]\n",
      "\r",
      " 60%|█████████████████████████████████████████████████▊                                 | 9/15 [00:28<00:18,  3.12s/it]"
     ]
    },
    {
     "name": "stderr",
     "output_type": "stream",
     "text": [
      "\n",
      "\r",
      "Generating test split:   0%|                                                             | 0/10 [00:00<?, ? examples/s]\u001b[A\r",
      "Generating test split: 100%|██████████████████████████████████████████████████| 10/10 [00:00<00:00, 2265.60 examples/s]\n"
     ]
    },
    {
     "name": "stderr",
     "output_type": "stream",
     "text": [
      "\n",
      "\r",
      "Saving the dataset (0/1 shards):   0%|                                                   | 0/10 [00:00<?, ? examples/s]\u001b[A\n",
      "\r",
      "Saving the dataset (1/1 shards): 100%|████████████████████████████████████████| 10/10 [00:00<00:00, 2201.27 examples/s]\u001b[A\r",
      "Saving the dataset (1/1 shards): 100%|████████████████████████████████████████| 10/10 [00:00<00:00, 2086.51 examples/s]\n",
      "\r",
      " 67%|██████████████████████████████████████████████████████▋                           | 10/15 [00:32<00:15,  3.20s/it]"
     ]
    },
    {
     "name": "stderr",
     "output_type": "stream",
     "text": [
      "\n",
      "\r",
      "Generating test split:   0%|                                                            | 0/200 [00:00<?, ? examples/s]\u001b[A\r",
      "Generating test split: 100%|███████████████████████████████████████████████| 200/200 [00:00<00:00, 25107.32 examples/s]\n"
     ]
    },
    {
     "name": "stderr",
     "output_type": "stream",
     "text": [
      "\n",
      "\r",
      "Saving the dataset (0/1 shards):   0%|                                                  | 0/200 [00:00<?, ? examples/s]\u001b[A\n",
      "\r",
      "Saving the dataset (1/1 shards): 100%|█████████████████████████████████████| 200/200 [00:00<00:00, 27356.54 examples/s]\u001b[A\r",
      "Saving the dataset (1/1 shards): 100%|█████████████████████████████████████| 200/200 [00:00<00:00, 26451.64 examples/s]\n",
      "\r",
      " 73%|████████████████████████████████████████████████████████████▏                     | 11/15 [00:35<00:12,  3.21s/it]"
     ]
    },
    {
     "name": "stderr",
     "output_type": "stream",
     "text": [
      "\n",
      "\r",
      "Generating test split:   0%|                                                            | 0/100 [00:00<?, ? examples/s]\u001b[A\r",
      "Generating test split: 100%|███████████████████████████████████████████████| 100/100 [00:00<00:00, 16644.72 examples/s]\n"
     ]
    },
    {
     "name": "stderr",
     "output_type": "stream",
     "text": [
      "\n",
      "\r",
      "Saving the dataset (0/1 shards):   0%|                                                  | 0/100 [00:00<?, ? examples/s]\u001b[A\n",
      "\r",
      "Saving the dataset (1/1 shards): 100%|█████████████████████████████████████| 100/100 [00:00<00:00, 15356.44 examples/s]\u001b[A\r",
      "Saving the dataset (1/1 shards): 100%|█████████████████████████████████████| 100/100 [00:00<00:00, 14799.42 examples/s]\n",
      "\r",
      " 80%|█████████████████████████████████████████████████████████████████▌                | 12/15 [00:38<00:09,  3.18s/it]"
     ]
    },
    {
     "name": "stderr",
     "output_type": "stream",
     "text": [
      "\n",
      "\r",
      "Generating test split:   0%|                                                             | 0/50 [00:00<?, ? examples/s]\u001b[A\r",
      "Generating test split: 100%|█████████████████████████████████████████████████| 50/50 [00:00<00:00, 12600.81 examples/s]\n"
     ]
    },
    {
     "name": "stderr",
     "output_type": "stream",
     "text": [
      "\n",
      "\r",
      "Saving the dataset (0/1 shards):   0%|                                                   | 0/50 [00:00<?, ? examples/s]\u001b[A\n",
      "\r",
      "Saving the dataset (1/1 shards): 100%|████████████████████████████████████████| 50/50 [00:00<00:00, 9333.95 examples/s]\u001b[A\r",
      "Saving the dataset (1/1 shards): 100%|████████████████████████████████████████| 50/50 [00:00<00:00, 8837.18 examples/s]\n",
      "\r",
      " 87%|███████████████████████████████████████████████████████████████████████           | 13/15 [00:41<00:06,  3.12s/it]"
     ]
    },
    {
     "name": "stderr",
     "output_type": "stream",
     "text": [
      "\n",
      "\r",
      "Generating test split:   0%|                                                            | 0/100 [00:00<?, ? examples/s]\u001b[A\r",
      "Generating test split: 100%|███████████████████████████████████████████████| 100/100 [00:00<00:00, 18604.97 examples/s]\n"
     ]
    },
    {
     "name": "stderr",
     "output_type": "stream",
     "text": [
      "\n",
      "\r",
      "Saving the dataset (0/1 shards):   0%|                                                  | 0/100 [00:00<?, ? examples/s]\u001b[A\n",
      "\r",
      "Saving the dataset (1/1 shards): 100%|█████████████████████████████████████| 100/100 [00:00<00:00, 13007.61 examples/s]\u001b[A\r",
      "Saving the dataset (1/1 shards): 100%|█████████████████████████████████████| 100/100 [00:00<00:00, 12598.16 examples/s]\n",
      "\r",
      " 93%|████████████████████████████████████████████████████████████████████████████▌     | 14/15 [00:45<00:03,  3.39s/it]"
     ]
    },
    {
     "name": "stderr",
     "output_type": "stream",
     "text": [
      "\n",
      "\r",
      "Generating test split:   0%|                                                            | 0/100 [00:00<?, ? examples/s]\u001b[A\r",
      "Generating test split: 100%|███████████████████████████████████████████████| 100/100 [00:00<00:00, 15722.55 examples/s]\n"
     ]
    },
    {
     "name": "stderr",
     "output_type": "stream",
     "text": [
      "\n",
      "\r",
      "Saving the dataset (0/1 shards):   0%|                                                  | 0/100 [00:00<?, ? examples/s]\u001b[A\n",
      "\r",
      "Saving the dataset (1/1 shards): 100%|█████████████████████████████████████| 100/100 [00:00<00:00, 16820.28 examples/s]\u001b[A\r",
      "Saving the dataset (1/1 shards): 100%|█████████████████████████████████████| 100/100 [00:00<00:00, 15800.14 examples/s]\n",
      "\r",
      "100%|██████████████████████████████████████████████████████████████████████████████████| 15/15 [00:49<00:00,  3.62s/it]\r",
      "100%|██████████████████████████████████████████████████████████████████████████████████| 15/15 [00:49<00:00,  3.32s/it]\n"
     ]
    }
   ],
   "source": [
    "for dataset_name in tqdm(['BFCL_v3_irrelevance', 'BFCL_v3_multi_turn_base_multi_func_call', 'BFCL_v3_multi_turn_base_single_func_call', 'BFCL_v3_multi_turn_composite', 'BFCL_v3_multi_turn_long_context', 'BFCL_v3_multi_turn_miss_func', 'BFCL_v3_multi_turn_miss_param', 'tau_long_context', 'toolace_single_func_call_1', 'toolace_single_func_call_2', 'xlam_multiple_tool_multiple_call', 'xlam_multiple_tool_single_call', 'xlam_single_tool_multiple_call', 'xlam_single_tool_single_call', 'xlam_tool_miss']):\n",
    "    ds = load_dataset(\n",
    "        \"galileo-ai/agent-leaderboard\",\n",
    "        dataset_name,\n",
    "        download_mode=DownloadMode.FORCE_REDOWNLOAD\n",
    "    )\n",
    "    ds.save_to_disk(f\"../data/tool_usage/{dataset_name}.hf\")"
   ]
  },
  {
   "cell_type": "code",
   "execution_count": null,
   "id": "lEQa",
   "metadata": {},
   "outputs": [],
   "source": []
  }
 ],
 "metadata": {},
 "nbformat": 4,
 "nbformat_minor": 5
}
