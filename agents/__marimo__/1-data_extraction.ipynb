{
 "cells": [
  {
   "cell_type": "code",
   "execution_count": null,
   "id": "Hbol",
   "metadata": {},
   "outputs": [],
   "source": [
    "import marimo as mo"
   ]
  },
  {
   "cell_type": "code",
   "execution_count": null,
   "id": "MJUe",
   "metadata": {},
   "outputs": [],
   "source": [
    "from datasets import load_dataset, load_from_disk\n",
    "import os\n",
    "from tqdm import tqdm\n",
    "import json"
   ]
  },
  {
   "cell_type": "markdown",
   "id": "vblA",
   "metadata": {},
   "source": [
    "# This notebook to meant to extract data from [galileo-ai/agent-leaderboard](https://huggingface.co/datasets/galileo-ai/agent-leaderboard)"
   ]
  },
  {
   "cell_type": "code",
   "execution_count": null,
   "id": "bkHC",
   "metadata": {},
   "outputs": [
    {
     "name": "stderr",
     "output_type": "stream",
     "text": [
      "\r",
      "  0%|                                                                                           | 0/15 [00:00<?, ?it/s]"
     ]
    },
    {
     "name": "stderr",
     "output_type": "stream",
     "text": [
      "\n",
      "\r",
      "Saving the dataset (0/1 shards):   0%|                                                  | 0/100 [00:00<?, ? examples/s]\u001b[A\n",
      "\r",
      "Saving the dataset (1/1 shards): 100%|█████████████████████████████████████| 100/100 [00:00<00:00, 16667.21 examples/s]\u001b[A\r",
      "Saving the dataset (1/1 shards): 100%|█████████████████████████████████████| 100/100 [00:00<00:00, 15642.80 examples/s]\n",
      "\r",
      "  7%|█████▌                                                                             | 1/15 [00:05<01:19,  5.67s/it]"
     ]
    },
    {
     "name": "stderr",
     "output_type": "stream",
     "text": [
      "\n",
      "\r",
      "Saving the dataset (0/1 shards):   0%|                                                   | 0/50 [00:00<?, ? examples/s]\u001b[A\n",
      "\r",
      "Saving the dataset (1/1 shards): 100%|████████████████████████████████████████| 50/50 [00:00<00:00, 5819.93 examples/s]\u001b[A\r",
      "Saving the dataset (1/1 shards): 100%|████████████████████████████████████████| 50/50 [00:00<00:00, 5564.21 examples/s]\n",
      "\r",
      " 13%|███████████                                                                        | 2/15 [00:08<00:54,  4.20s/it]"
     ]
    },
    {
     "name": "stderr",
     "output_type": "stream",
     "text": [
      "\n",
      "\r",
      "Saving the dataset (0/1 shards):   0%|                                                   | 0/50 [00:00<?, ? examples/s]\u001b[A\n",
      "\r",
      "Saving the dataset (1/1 shards): 100%|████████████████████████████████████████| 50/50 [00:00<00:00, 6600.01 examples/s]\u001b[A\r",
      "Saving the dataset (1/1 shards): 100%|████████████████████████████████████████| 50/50 [00:00<00:00, 6388.11 examples/s]\n",
      "\r",
      " 20%|████████████████▌                                                                  | 3/15 [00:12<00:45,  3.83s/it]"
     ]
    },
    {
     "name": "stderr",
     "output_type": "stream",
     "text": [
      "\n",
      "\r",
      "Saving the dataset (0/1 shards):   0%|                                                  | 0/100 [00:00<?, ? examples/s]\u001b[A\n",
      "\r",
      "Saving the dataset (1/1 shards): 100%|█████████████████████████████████████| 100/100 [00:00<00:00, 11139.36 examples/s]\u001b[A\r",
      "Saving the dataset (1/1 shards): 100%|█████████████████████████████████████| 100/100 [00:00<00:00, 10834.08 examples/s]\n",
      "\r",
      " 27%|██████████████████████▏                                                            | 4/15 [00:15<00:41,  3.77s/it]"
     ]
    },
    {
     "name": "stderr",
     "output_type": "stream",
     "text": [
      "\n",
      "\r",
      "Saving the dataset (0/1 shards):   0%|                                                  | 0/100 [00:00<?, ? examples/s]\u001b[A\n",
      "\r",
      "Saving the dataset (1/1 shards): 100%|█████████████████████████████████████| 100/100 [00:00<00:00, 12780.89 examples/s]\u001b[A\r",
      "Saving the dataset (1/1 shards): 100%|█████████████████████████████████████| 100/100 [00:00<00:00, 12218.67 examples/s]\n",
      "\r",
      " 33%|███████████████████████████▋                                                       | 5/15 [00:19<00:36,  3.66s/it]"
     ]
    },
    {
     "name": "stderr",
     "output_type": "stream",
     "text": [
      "\n",
      "\r",
      "Saving the dataset (0/1 shards):   0%|                                                  | 0/100 [00:00<?, ? examples/s]\u001b[A\n",
      "\r",
      "Saving the dataset (1/1 shards): 100%|█████████████████████████████████████| 100/100 [00:00<00:00, 11774.15 examples/s]\u001b[A\r",
      "Saving the dataset (1/1 shards): 100%|█████████████████████████████████████| 100/100 [00:00<00:00, 11418.04 examples/s]\n",
      "\r",
      " 40%|█████████████████████████████████▏                                                 | 6/15 [00:22<00:31,  3.53s/it]"
     ]
    },
    {
     "name": "stderr",
     "output_type": "stream",
     "text": [
      "\n",
      "\r",
      "Saving the dataset (0/1 shards):   0%|                                                  | 0/100 [00:00<?, ? examples/s]\u001b[A\n",
      "\r",
      "Saving the dataset (1/1 shards): 100%|█████████████████████████████████████| 100/100 [00:00<00:00, 12122.62 examples/s]\u001b[A\r",
      "Saving the dataset (1/1 shards): 100%|█████████████████████████████████████| 100/100 [00:00<00:00, 11639.85 examples/s]\n",
      "\r",
      " 47%|██████████████████████████████████████▋                                            | 7/15 [00:25<00:26,  3.32s/it]"
     ]
    },
    {
     "name": "stderr",
     "output_type": "stream",
     "text": [
      "\n",
      "\r",
      "Saving the dataset (0/1 shards):   0%|                                                  | 0/100 [00:00<?, ? examples/s]\u001b[A\n",
      "\r",
      "Saving the dataset (1/1 shards): 100%|█████████████████████████████████████| 100/100 [00:00<00:00, 13333.88 examples/s]\u001b[A\r",
      "Saving the dataset (1/1 shards): 100%|█████████████████████████████████████| 100/100 [00:00<00:00, 12830.54 examples/s]\n",
      "\r",
      " 53%|████████████████████████████████████████████▎                                      | 8/15 [00:28<00:21,  3.14s/it]"
     ]
    },
    {
     "name": "stderr",
     "output_type": "stream",
     "text": [
      "\n",
      "\r",
      "Saving the dataset (0/1 shards):   0%|                                                   | 0/20 [00:00<?, ? examples/s]\u001b[A\n",
      "\r",
      "Saving the dataset (1/1 shards): 100%|████████████████████████████████████████| 20/20 [00:00<00:00, 2761.32 examples/s]\u001b[A\r",
      "Saving the dataset (1/1 shards): 100%|████████████████████████████████████████| 20/20 [00:00<00:00, 2647.92 examples/s]\n",
      "\r",
      " 60%|█████████████████████████████████████████████████▊                                 | 9/15 [00:30<00:17,  2.98s/it]"
     ]
    },
    {
     "name": "stderr",
     "output_type": "stream",
     "text": [
      "\n",
      "\r",
      "Saving the dataset (0/1 shards):   0%|                                                   | 0/10 [00:00<?, ? examples/s]\u001b[A\n",
      "\r",
      "Saving the dataset (1/1 shards): 100%|████████████████████████████████████████| 10/10 [00:00<00:00, 1474.27 examples/s]\u001b[A\r",
      "Saving the dataset (1/1 shards): 100%|████████████████████████████████████████| 10/10 [00:00<00:00, 1389.81 examples/s]\n",
      "\r",
      " 67%|██████████████████████████████████████████████████████▋                           | 10/15 [00:33<00:14,  2.92s/it]"
     ]
    },
    {
     "name": "stderr",
     "output_type": "stream",
     "text": [
      "\n",
      "\r",
      "Saving the dataset (0/1 shards):   0%|                                                  | 0/200 [00:00<?, ? examples/s]\u001b[A\n",
      "\r",
      "Saving the dataset (1/1 shards): 100%|█████████████████████████████████████| 200/200 [00:00<00:00, 29006.25 examples/s]\u001b[A\r",
      "Saving the dataset (1/1 shards): 100%|█████████████████████████████████████| 200/200 [00:00<00:00, 27677.87 examples/s]\n",
      "\r",
      " 73%|████████████████████████████████████████████████████████████▏                     | 11/15 [00:36<00:11,  2.81s/it]"
     ]
    },
    {
     "name": "stderr",
     "output_type": "stream",
     "text": [
      "\n",
      "\r",
      "Saving the dataset (0/1 shards):   0%|                                                  | 0/100 [00:00<?, ? examples/s]\u001b[A\n",
      "\r",
      "Saving the dataset (1/1 shards): 100%|█████████████████████████████████████| 100/100 [00:00<00:00, 18218.68 examples/s]\u001b[A\r",
      "Saving the dataset (1/1 shards): 100%|█████████████████████████████████████| 100/100 [00:00<00:00, 17354.78 examples/s]\n",
      "\r",
      " 80%|█████████████████████████████████████████████████████████████████▌                | 12/15 [00:38<00:08,  2.75s/it]"
     ]
    },
    {
     "name": "stderr",
     "output_type": "stream",
     "text": [
      "\n",
      "\r",
      "Saving the dataset (0/1 shards):   0%|                                                   | 0/50 [00:00<?, ? examples/s]\u001b[A\n",
      "\r",
      "Saving the dataset (1/1 shards): 100%|████████████████████████████████████████| 50/50 [00:00<00:00, 6381.69 examples/s]\u001b[A\r",
      "Saving the dataset (1/1 shards): 100%|████████████████████████████████████████| 50/50 [00:00<00:00, 5974.45 examples/s]\n",
      "\r",
      " 87%|███████████████████████████████████████████████████████████████████████           | 13/15 [00:41<00:05,  2.67s/it]"
     ]
    },
    {
     "name": "stderr",
     "output_type": "stream",
     "text": [
      "\n",
      "\r",
      "Saving the dataset (0/1 shards):   0%|                                                  | 0/100 [00:00<?, ? examples/s]\u001b[A\n",
      "\r",
      "Saving the dataset (1/1 shards): 100%|█████████████████████████████████████| 100/100 [00:00<00:00, 15770.43 examples/s]\u001b[A\r",
      "Saving the dataset (1/1 shards): 100%|█████████████████████████████████████| 100/100 [00:00<00:00, 15040.36 examples/s]\n",
      "\r",
      " 93%|████████████████████████████████████████████████████████████████████████████▌     | 14/15 [00:44<00:02,  2.71s/it]"
     ]
    },
    {
     "name": "stderr",
     "output_type": "stream",
     "text": [
      "\n",
      "\r",
      "Saving the dataset (0/1 shards):   0%|                                                  | 0/100 [00:00<?, ? examples/s]\u001b[A\n",
      "\r",
      "Saving the dataset (1/1 shards): 100%|█████████████████████████████████████| 100/100 [00:00<00:00, 12285.24 examples/s]\u001b[A\r",
      "Saving the dataset (1/1 shards): 100%|█████████████████████████████████████| 100/100 [00:00<00:00, 11834.61 examples/s]\n",
      "\r",
      "100%|██████████████████████████████████████████████████████████████████████████████████| 15/15 [00:46<00:00,  2.69s/it]\r",
      "100%|██████████████████████████████████████████████████████████████████████████████████| 15/15 [00:46<00:00,  3.12s/it]\n"
     ]
    }
   ],
   "source": [
    "for dataset_name in tqdm(['BFCL_v3_irrelevance', 'BFCL_v3_multi_turn_base_multi_func_call', 'BFCL_v3_multi_turn_base_single_func_call', 'BFCL_v3_multi_turn_composite', 'BFCL_v3_multi_turn_long_context', 'BFCL_v3_multi_turn_miss_func', 'BFCL_v3_multi_turn_miss_param', 'tau_long_context', 'toolace_single_func_call_1', 'toolace_single_func_call_2', 'xlam_multiple_tool_multiple_call', 'xlam_multiple_tool_single_call', 'xlam_single_tool_multiple_call', 'xlam_single_tool_single_call', 'xlam_tool_miss']):\n",
    "    ds = load_dataset(\"galileo-ai/agent-leaderboard\",dataset_name,)\n",
    "    ds.save_to_disk(f\"../data/tool_usage/{dataset_name}.hf\")"
   ]
  }
 ],
 "metadata": {},
 "nbformat": 4,
 "nbformat_minor": 5
}
